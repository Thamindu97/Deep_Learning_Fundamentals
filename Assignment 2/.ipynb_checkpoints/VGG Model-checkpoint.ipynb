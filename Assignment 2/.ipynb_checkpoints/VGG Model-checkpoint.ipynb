{
 "cells": [
  {
   "cell_type": "code",
   "execution_count": 8,
   "id": "57437616",
   "metadata": {},
   "outputs": [],
   "source": [
    "import zipfile\n",
    "import os\n",
    "import torch\n",
    "import numpy as np\n",
    "import matplotlib.pyplot as plt\n",
    "import tensorflow as tf\n",
    "from tensorflow.keras.preprocessing.image import ImageDataGenerator\n",
    "from tensorflow.keras.models import Sequential\n",
    "from tensorflow.keras.layers import Conv2D, MaxPooling2D, Flatten, Dense, Dropout, Input, GlobalAveragePooling2D, BatchNormalization\n",
    "from tensorflow.keras.applications import DenseNet121\n",
    "from tensorflow.keras.applications import VGG16\n",
    "from tensorflow.keras.applications import ResNet50\n",
    "from tensorflow.keras.optimizers import Adam\n",
    "from tensorflow.keras.models import Model\n",
    "import seaborn as sns\n",
    "import pandas as pd\n",
    "from PIL import Image\n",
    "import warnings\n",
    "warnings.filterwarnings('ignore')\n",
    "import scipy"
   ]
  },
  {
   "cell_type": "markdown",
   "id": "7a29b4f7",
   "metadata": {},
   "source": [
    "## Data Loading "
   ]
  },
  {
   "cell_type": "code",
   "execution_count": 9,
   "id": "9a430dbb",
   "metadata": {},
   "outputs": [
    {
     "name": "stdout",
     "output_type": "stream",
     "text": [
      "Found 60955 images belonging to 131 classes.\n",
      "Found 6737 images belonging to 131 classes.\n",
      "Found 22688 images belonging to 131 classes.\n"
     ]
    }
   ],
   "source": [
    "# Setup paths to the training and test directories\n",
    "training_dir = 'fruits_dataset/fruits-360_dataset/fruits-360/Training'\n",
    "test_dir = 'fruits_dataset/fruits-360_dataset/fruits-360/Test'\n",
    "\n",
    "# Using ImageDataGenerator for data augmentation and normalization\n",
    "train_datagen = ImageDataGenerator(\n",
    "    rescale=1./255,\n",
    "    rotation_range=20,\n",
    "    width_shift_range=0.2,\n",
    "    height_shift_range=0.2,\n",
    "    shear_range=0.2,\n",
    "    zoom_range=0.2,\n",
    "    horizontal_flip=True,\n",
    "    fill_mode='nearest',\n",
    "    validation_split=0.1  # using 10% of the training data for validation\n",
    ")\n",
    "\n",
    "test_datagen = ImageDataGenerator(rescale=1./255)\n",
    "\n",
    "# Load images from the directories and dataset split\n",
    "train_generator = train_datagen.flow_from_directory(\n",
    "    training_dir,\n",
    "    target_size=(100, 100),\n",
    "    batch_size=32,\n",
    "    class_mode='categorical',\n",
    "    subset='training'  # set as training data\n",
    ")\n",
    "\n",
    "validation_generator = train_datagen.flow_from_directory(\n",
    "    training_dir,  # same directory as training data\n",
    "    target_size=(100, 100),\n",
    "    batch_size=32,\n",
    "    class_mode='categorical',\n",
    "    subset='validation'  # set as validation data\n",
    ")\n",
    "\n",
    "test_generator = test_datagen.flow_from_directory(\n",
    "    test_dir,\n",
    "    target_size=(100, 100),\n",
    "    batch_size=32,\n",
    "    class_mode='categorical'\n",
    ")"
   ]
  },
  {
   "cell_type": "markdown",
   "id": "ec52bf4f",
   "metadata": {},
   "source": [
    "## Model Implementation "
   ]
  },
  {
   "cell_type": "markdown",
   "id": "18531cdb",
   "metadata": {},
   "source": [
    "### VGG16 with  pre-trained weights"
   ]
  },
  {
   "cell_type": "code",
   "execution_count": 18,
   "id": "34bb2ed2",
   "metadata": {},
   "outputs": [
    {
     "name": "stdout",
     "output_type": "stream",
     "text": [
      "Model: \"model\"\n",
      "_________________________________________________________________\n",
      " Layer (type)                Output Shape              Param #   \n",
      "=================================================================\n",
      " input_2 (InputLayer)        [(None, 100, 100, 3)]     0         \n",
      "                                                                 \n",
      " block1_conv1 (Conv2D)       (None, 100, 100, 64)      1792      \n",
      "                                                                 \n",
      " block1_conv2 (Conv2D)       (None, 100, 100, 64)      36928     \n",
      "                                                                 \n",
      " block1_pool (MaxPooling2D)  (None, 50, 50, 64)        0         \n",
      "                                                                 \n",
      " block2_conv1 (Conv2D)       (None, 50, 50, 128)       73856     \n",
      "                                                                 \n",
      " block2_conv2 (Conv2D)       (None, 50, 50, 128)       147584    \n",
      "                                                                 \n",
      " block2_pool (MaxPooling2D)  (None, 25, 25, 128)       0         \n",
      "                                                                 \n",
      " block3_conv1 (Conv2D)       (None, 25, 25, 256)       295168    \n",
      "                                                                 \n",
      " block3_conv2 (Conv2D)       (None, 25, 25, 256)       590080    \n",
      "                                                                 \n",
      " block3_conv3 (Conv2D)       (None, 25, 25, 256)       590080    \n",
      "                                                                 \n",
      " block3_pool (MaxPooling2D)  (None, 12, 12, 256)       0         \n",
      "                                                                 \n",
      " block4_conv1 (Conv2D)       (None, 12, 12, 512)       1180160   \n",
      "                                                                 \n",
      " block4_conv2 (Conv2D)       (None, 12, 12, 512)       2359808   \n",
      "                                                                 \n",
      " block4_conv3 (Conv2D)       (None, 12, 12, 512)       2359808   \n",
      "                                                                 \n",
      " block4_pool (MaxPooling2D)  (None, 6, 6, 512)         0         \n",
      "                                                                 \n",
      " block5_conv1 (Conv2D)       (None, 6, 6, 512)         2359808   \n",
      "                                                                 \n",
      " block5_conv2 (Conv2D)       (None, 6, 6, 512)         2359808   \n",
      "                                                                 \n",
      " block5_conv3 (Conv2D)       (None, 6, 6, 512)         2359808   \n",
      "                                                                 \n",
      " block5_pool (MaxPooling2D)  (None, 3, 3, 512)         0         \n",
      "                                                                 \n",
      " flatten_2 (Flatten)         (None, 4608)              0         \n",
      "                                                                 \n",
      " dense_4 (Dense)             (None, 4096)              18878464  \n",
      "                                                                 \n",
      " dropout_3 (Dropout)         (None, 4096)              0         \n",
      "                                                                 \n",
      " dense_5 (Dense)             (None, 4096)              16781312  \n",
      "                                                                 \n",
      " dropout_4 (Dropout)         (None, 4096)              0         \n",
      "                                                                 \n",
      " dense_6 (Dense)             (None, 131)               536707    \n",
      "                                                                 \n",
      "=================================================================\n",
      "Total params: 50,911,171\n",
      "Trainable params: 36,196,483\n",
      "Non-trainable params: 14,714,688\n",
      "_________________________________________________________________\n"
     ]
    }
   ],
   "source": [
    "# Load the VGG16 network, ensuring the head FC layers are left off\n",
    "VGG_base_model = VGG16(weights='imagenet', include_top=False, input_shape=(100, 100, 3))\n",
    "\n",
    "# Freeze the layers of the base model\n",
    "for layer in VGG_base_model.layers:\n",
    "    layer.trainable = False\n",
    "\n",
    "# Construct the head of the model that will be placed on top of the base model\n",
    "head_model = Flatten()(VGG_base_model.output)\n",
    "head_model = Dense(4096, activation='relu')(head_model)\n",
    "head_model = Dropout(0.5)(head_model)\n",
    "head_model = Dense(4096, activation='relu')(head_model)\n",
    "head_model = Dropout(0.5)(head_model)\n",
    "head_model = Dense(num_classes, activation='softmax')(head_model)  # assuming num_classes is defined\n",
    "\n",
    "# Place the head FC model on top of the base model (this will become the actual model we will train)\n",
    "VGG_model = Model(inputs=VGG_base_model.input, outputs=head_model)\n",
    "\n",
    "# Compile the model\n",
    "VGG_model.compile(optimizer=Adam(lr=0.0001), loss='categorical_crossentropy', metrics=['accuracy'])\n",
    "\n",
    "# Show the model structure\n",
    "VGG_model.summary()"
   ]
  },
  {
   "cell_type": "markdown",
   "id": "01fd4a82",
   "metadata": {},
   "source": [
    "In this script:\n",
    "\n",
    "We load the VGG16 model with pre-trained weights on ImageNet and without its top fully connected layers.\n",
    "We then freeze the weights of these pre-trained layers, as we don't want to update them during training.\n",
    "After that, we build a new set of top layers (the \"head\") that are suited for our classification task, which has num_classes number of outputs.\n",
    "Finally, we compile the model, readying it for training."
   ]
  },
  {
   "cell_type": "markdown",
   "id": "5adc13f7",
   "metadata": {},
   "source": [
    "## Model Training"
   ]
  },
  {
   "cell_type": "markdown",
   "id": "93380288",
   "metadata": {},
   "source": [
    "### VGG16 with  pre-trained weights"
   ]
  },
  {
   "cell_type": "code",
   "execution_count": 19,
   "id": "b5605bb7",
   "metadata": {},
   "outputs": [
    {
     "name": "stdout",
     "output_type": "stream",
     "text": [
      "Epoch 1/50\n",
      "1904/1904 [==============================] - 174s 86ms/step - loss: 1.9004 - accuracy: 0.5196 - val_loss: 0.5500 - val_accuracy: 0.8446\n",
      "Epoch 2/50\n",
      "1904/1904 [==============================] - 148s 78ms/step - loss: 0.5837 - accuracy: 0.8208 - val_loss: 0.2690 - val_accuracy: 0.9205\n",
      "Epoch 3/50\n",
      "1904/1904 [==============================] - 148s 78ms/step - loss: 0.3784 - accuracy: 0.8800 - val_loss: 0.2396 - val_accuracy: 0.9219\n",
      "Epoch 4/50\n",
      "1904/1904 [==============================] - 135s 71ms/step - loss: 0.2941 - accuracy: 0.9041 - val_loss: 0.1732 - val_accuracy: 0.9443\n",
      "Epoch 5/50\n",
      "1904/1904 [==============================] - 137s 72ms/step - loss: 0.2529 - accuracy: 0.9168 - val_loss: 0.1480 - val_accuracy: 0.9554\n",
      "Epoch 6/50\n",
      "1904/1904 [==============================] - 136s 71ms/step - loss: 0.2195 - accuracy: 0.9280 - val_loss: 0.1603 - val_accuracy: 0.9506\n",
      "Epoch 7/50\n",
      "1904/1904 [==============================] - 138s 72ms/step - loss: 0.1960 - accuracy: 0.9345 - val_loss: 0.1248 - val_accuracy: 0.9586\n",
      "Epoch 8/50\n",
      "1904/1904 [==============================] - 143s 75ms/step - loss: 0.1802 - accuracy: 0.9402 - val_loss: 0.1287 - val_accuracy: 0.9591\n",
      "Epoch 9/50\n",
      "1904/1904 [==============================] - 139s 73ms/step - loss: 0.1683 - accuracy: 0.9437 - val_loss: 0.0866 - val_accuracy: 0.9708\n",
      "Epoch 10/50\n",
      "1904/1904 [==============================] - 144s 75ms/step - loss: 0.1599 - accuracy: 0.9481 - val_loss: 0.1073 - val_accuracy: 0.9629\n",
      "Epoch 11/50\n",
      "1904/1904 [==============================] - 145s 76ms/step - loss: 0.1469 - accuracy: 0.9508 - val_loss: 0.1029 - val_accuracy: 0.9647\n",
      "Epoch 12/50\n",
      "1904/1904 [==============================] - 140s 73ms/step - loss: 0.1441 - accuracy: 0.9521 - val_loss: 0.0904 - val_accuracy: 0.9707\n",
      "Epoch 13/50\n",
      "1904/1904 [==============================] - 141s 74ms/step - loss: 0.1365 - accuracy: 0.9544 - val_loss: 0.0952 - val_accuracy: 0.9680\n",
      "Epoch 14/50\n",
      "1904/1904 [==============================] - 181s 95ms/step - loss: 0.1316 - accuracy: 0.9555 - val_loss: 0.0936 - val_accuracy: 0.9698\n",
      "Epoch 15/50\n",
      "1904/1904 [==============================] - 151s 79ms/step - loss: 0.1220 - accuracy: 0.9593 - val_loss: 0.1062 - val_accuracy: 0.9673\n",
      "Epoch 16/50\n",
      "1904/1904 [==============================] - 184s 96ms/step - loss: 0.1205 - accuracy: 0.9599 - val_loss: 0.0862 - val_accuracy: 0.9723\n",
      "Epoch 17/50\n",
      "1904/1904 [==============================] - 155s 81ms/step - loss: 0.1204 - accuracy: 0.9612 - val_loss: 0.0988 - val_accuracy: 0.9655\n",
      "Epoch 18/50\n",
      "1904/1904 [==============================] - 149s 78ms/step - loss: 0.1149 - accuracy: 0.9620 - val_loss: 0.0853 - val_accuracy: 0.9688\n",
      "Epoch 19/50\n",
      "1904/1904 [==============================] - 154s 81ms/step - loss: 0.1109 - accuracy: 0.9636 - val_loss: 0.1081 - val_accuracy: 0.9682\n",
      "Epoch 20/50\n",
      "1904/1904 [==============================] - 149s 78ms/step - loss: 0.1085 - accuracy: 0.9644 - val_loss: 0.0965 - val_accuracy: 0.9676\n",
      "Epoch 21/50\n",
      "1904/1904 [==============================] - 150s 79ms/step - loss: 0.1067 - accuracy: 0.9656 - val_loss: 0.0876 - val_accuracy: 0.9719\n",
      "Epoch 22/50\n",
      "1904/1904 [==============================] - 152s 80ms/step - loss: 0.1031 - accuracy: 0.9661 - val_loss: 0.0770 - val_accuracy: 0.9737\n",
      "Epoch 23/50\n",
      "1904/1904 [==============================] - 150s 79ms/step - loss: 0.1044 - accuracy: 0.9659 - val_loss: 0.0811 - val_accuracy: 0.9743\n",
      "Epoch 24/50\n",
      "1904/1904 [==============================] - 147s 77ms/step - loss: 0.1020 - accuracy: 0.9666 - val_loss: 0.1023 - val_accuracy: 0.9685\n",
      "Epoch 25/50\n",
      "1904/1904 [==============================] - 147s 77ms/step - loss: 0.0999 - accuracy: 0.9670 - val_loss: 0.0877 - val_accuracy: 0.9716\n",
      "Epoch 26/50\n",
      "1904/1904 [==============================] - 151s 79ms/step - loss: 0.0966 - accuracy: 0.9690 - val_loss: 0.0828 - val_accuracy: 0.9737\n",
      "Epoch 27/50\n",
      "1904/1904 [==============================] - 142s 75ms/step - loss: 0.0980 - accuracy: 0.9681 - val_loss: 0.0691 - val_accuracy: 0.9765\n",
      "Epoch 28/50\n",
      "1904/1904 [==============================] - 141s 74ms/step - loss: 0.0930 - accuracy: 0.9691 - val_loss: 0.0942 - val_accuracy: 0.9671\n",
      "Epoch 29/50\n",
      "1904/1904 [==============================] - 146s 76ms/step - loss: 0.0917 - accuracy: 0.9702 - val_loss: 0.0730 - val_accuracy: 0.9744\n",
      "Epoch 30/50\n",
      "1904/1904 [==============================] - 143s 75ms/step - loss: 0.0883 - accuracy: 0.9715 - val_loss: 0.0782 - val_accuracy: 0.9720\n",
      "Epoch 31/50\n",
      "1904/1904 [==============================] - 142s 74ms/step - loss: 0.0903 - accuracy: 0.9709 - val_loss: 0.0763 - val_accuracy: 0.9735\n",
      "Epoch 32/50\n",
      "1904/1904 [==============================] - 143s 75ms/step - loss: 0.0885 - accuracy: 0.9714 - val_loss: 0.0748 - val_accuracy: 0.9759\n",
      "Epoch 33/50\n",
      "1904/1904 [==============================] - 141s 74ms/step - loss: 0.0864 - accuracy: 0.9716 - val_loss: 0.0806 - val_accuracy: 0.9744\n",
      "Epoch 34/50\n",
      "1904/1904 [==============================] - 142s 75ms/step - loss: 0.0906 - accuracy: 0.9712 - val_loss: 0.0808 - val_accuracy: 0.9740\n",
      "Epoch 35/50\n",
      "1904/1904 [==============================] - 145s 76ms/step - loss: 0.0821 - accuracy: 0.9734 - val_loss: 0.0711 - val_accuracy: 0.9793\n",
      "Epoch 36/50\n",
      "1904/1904 [==============================] - 144s 76ms/step - loss: 0.0819 - accuracy: 0.9740 - val_loss: 0.0654 - val_accuracy: 0.9756\n",
      "Epoch 37/50\n",
      "1904/1904 [==============================] - 145s 76ms/step - loss: 0.0852 - accuracy: 0.9726 - val_loss: 0.0584 - val_accuracy: 0.9804\n",
      "Epoch 38/50\n",
      "1904/1904 [==============================] - 188s 99ms/step - loss: 0.0836 - accuracy: 0.9729 - val_loss: 0.0778 - val_accuracy: 0.9763\n",
      "Epoch 39/50\n",
      "1904/1904 [==============================] - 162s 85ms/step - loss: 0.0817 - accuracy: 0.9739 - val_loss: 0.0681 - val_accuracy: 0.9787\n",
      "Epoch 40/50\n",
      "1904/1904 [==============================] - 160s 84ms/step - loss: 0.0806 - accuracy: 0.9742 - val_loss: 0.0589 - val_accuracy: 0.9801\n",
      "Epoch 41/50\n",
      "1904/1904 [==============================] - 157s 83ms/step - loss: 0.0817 - accuracy: 0.9738 - val_loss: 0.0789 - val_accuracy: 0.9756\n",
      "Epoch 42/50\n",
      "1904/1904 [==============================] - 153s 80ms/step - loss: 0.0785 - accuracy: 0.9756 - val_loss: 0.0988 - val_accuracy: 0.9707\n",
      "Epoch 43/50\n",
      "1904/1904 [==============================] - 154s 81ms/step - loss: 0.0835 - accuracy: 0.9744 - val_loss: 0.0640 - val_accuracy: 0.9795\n",
      "Epoch 44/50\n",
      "1904/1904 [==============================] - 160s 84ms/step - loss: 0.0799 - accuracy: 0.9745 - val_loss: 0.0542 - val_accuracy: 0.9808\n",
      "Epoch 45/50\n",
      "1904/1904 [==============================] - 160s 84ms/step - loss: 0.0795 - accuracy: 0.9744 - val_loss: 0.0661 - val_accuracy: 0.9769\n",
      "Epoch 46/50\n",
      "1904/1904 [==============================] - 150s 79ms/step - loss: 0.0758 - accuracy: 0.9759 - val_loss: 0.0675 - val_accuracy: 0.9796\n",
      "Epoch 47/50\n",
      "1904/1904 [==============================] - 185s 97ms/step - loss: 0.0800 - accuracy: 0.9747 - val_loss: 0.0743 - val_accuracy: 0.9772\n",
      "Epoch 48/50\n",
      "1904/1904 [==============================] - 155s 81ms/step - loss: 0.0781 - accuracy: 0.9758 - val_loss: 0.0771 - val_accuracy: 0.9772\n",
      "Epoch 49/50\n",
      "1904/1904 [==============================] - 199s 105ms/step - loss: 0.0774 - accuracy: 0.9760 - val_loss: 0.0645 - val_accuracy: 0.9793\n",
      "Epoch 50/50\n",
      "1904/1904 [==============================] - 175s 92ms/step - loss: 0.0751 - accuracy: 0.9765 - val_loss: 0.0700 - val_accuracy: 0.9774\n"
     ]
    }
   ],
   "source": [
    "# Set the number of epochs and batch size\n",
    "epochs = 50  # Number of epochs to train for\n",
    "batch_size = 32  # Batch size for training\n",
    "\n",
    "# Fit the model using the generators\n",
    "VGG_history = VGG_model.fit(\n",
    "    train_generator,\n",
    "    steps_per_epoch= train_generator.samples // batch_size,  # Number of batches per epoch\n",
    "    epochs=epochs,\n",
    "    validation_data=validation_generator,\n",
    "    validation_steps=validation_generator.samples // batch_size,  # Validation batches\n",
    "    verbose=1\n",
    ")\n"
   ]
  },
  {
   "cell_type": "markdown",
   "id": "7715f5a6",
   "metadata": {},
   "source": [
    "## Performance Evaluation"
   ]
  },
  {
   "cell_type": "markdown",
   "id": "9fdbdc89",
   "metadata": {},
   "source": [
    "### VGG16 with  pre-trained weights"
   ]
  },
  {
   "cell_type": "code",
   "execution_count": 21,
   "id": "ebc17057",
   "metadata": {},
   "outputs": [
    {
     "data": {
      "image/png": "[encoded data removed]",
      "text/plain": [
       "<Figure size 1200x600 with 2 Axes>"
      ]
     },
     "metadata": {},
     "output_type": "display_data"
    }
   ],
   "source": [
    "# Plot training & validation accuracy\n",
    "plt.figure(figsize=(12, 6))\n",
    "plt.subplot(1, 2, 1)\n",
    "plt.plot(VGG_history.history['accuracy'], label='Training Accuracy')\n",
    "plt.plot(VGG_history.history['val_accuracy'], label='Validation Accuracy')\n",
    "plt.title('Training and Validation Accuracy')\n",
    "plt.xlabel('Epoch')\n",
    "plt.ylabel('Accuracy')\n",
    "plt.legend(loc='upper left')\n",
    "\n",
    "# Plot training & validation loss\n",
    "plt.subplot(1, 2, 2)\n",
    "plt.plot(VGG_history.history['loss'], label='Training Loss')\n",
    "plt.plot(VGG_history.history['val_loss'], label='Validation Loss')\n",
    "plt.title('Training and Validation Loss')\n",
    "plt.xlabel('Epoch')\n",
    "plt.ylabel('Loss')\n",
    "plt.legend(loc='upper right')\n",
    "\n",
    "plt.show()\n"
   ]
  },
  {
   "cell_type": "code",
   "execution_count": 22,
   "id": "df46c64c",
   "metadata": {},
   "outputs": [
    {
     "name": "stdout",
     "output_type": "stream",
     "text": [
      "Final Training Accuracy: 97.65%\n",
      "Final Validation Accuracy: 97.74%\n"
     ]
    }
   ],
   "source": [
    "# Retrieve the training accuracy\n",
    "final_train_accuracy = VGG_history.history['accuracy'][-1]\n",
    "print(f\"Final Training Accuracy: {final_train_accuracy * 100:.2f}%\")\n",
    "\n",
    "# Retrieve the validation accuracy\n",
    "final_val_accuracy = VGG_history.history['val_accuracy'][-1]\n",
    "print(f\"Final Validation Accuracy: {final_val_accuracy * 100:.2f}%\")"
   ]
  },
  {
   "cell_type": "markdown",
   "id": "0a5602d5",
   "metadata": {},
   "source": [
    "## Model Optimization and Tuning"
   ]
  },
  {
   "cell_type": "code",
   "execution_count": null,
   "id": "ef835c93",
   "metadata": {},
   "outputs": [],
   "source": []
  },
  {
   "cell_type": "markdown",
   "id": "85d7ba6f",
   "metadata": {},
   "source": [
    "## Testing and Validation"
   ]
  },
  {
   "cell_type": "markdown",
   "id": "26260e27",
   "metadata": {},
   "source": [
    "### VGG16 with  pre-trained weights"
   ]
  },
  {
   "cell_type": "code",
   "execution_count": 24,
   "id": "6128a65a",
   "metadata": {},
   "outputs": [
    {
     "name": "stdout",
     "output_type": "stream",
     "text": [
      "709/709 [==============================] - 120s 169ms/step - loss: 0.2031 - accuracy: 0.9688\n",
      "Test Loss: 20.31%\n",
      "Test Accuracy: 96.88%\n"
     ]
    }
   ],
   "source": [
    "# Evaluate on the test set\n",
    "test_generator.reset()  # Reset the generator to avoid shuffling issues\n",
    "test_loss, test_accuracy = VGG_model.evaluate(test_generator, steps=test_generator.samples // batch_size)\n",
    "\n",
    "print(f\"Test Loss: {test_loss* 100:.2f}%\")\n",
    "print(f\"Test Accuracy: {test_accuracy* 100:.2f}%\")"
   ]
  }
 ],
 "metadata": {
  "kernelspec": {
   "display_name": "deeplearning",
   "language": "python",
   "name": "deeplearning"
  },
  "language_info": {
   "codemirror_mode": {
    "name": "ipython",
    "version": 3
   },
   "file_extension": ".py",
   "mimetype": "text/x-python",
   "name": "python",
   "nbconvert_exporter": "python",
   "pygments_lexer": "ipython3",
   "version": "3.9.7"
  }
 },
 "nbformat": 4,
 "nbformat_minor": 5
}
